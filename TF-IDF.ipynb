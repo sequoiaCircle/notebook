{
 "cells": [
  {
   "cell_type": "markdown",
   "id": "25a3da75",
   "metadata": {},
   "source": [
    "Idea: regarding chemicals as tokens and plants as documents, measure the relevance of each chemical present in a plant like a TF-IDF value. Instead of token frequency, it's ppm concentration."
   ]
  },
  {
   "cell_type": "code",
   "execution_count": 1,
   "id": "77696cd1",
   "metadata": {},
   "outputs": [],
   "source": [
    "import pandas as pd\n",
    "import numpy as np\n",
    "import bokeh"
   ]
  }
 ],
 "metadata": {
  "kernelspec": {
   "display_name": "Python 3 (ipykernel)",
   "language": "python",
   "name": "python3"
  },
  "language_info": {
   "codemirror_mode": {
    "name": "ipython",
    "version": 3
   },
   "file_extension": ".py",
   "mimetype": "text/x-python",
   "name": "python",
   "nbconvert_exporter": "python",
   "pygments_lexer": "ipython3",
   "version": "3.7.16"
  }
 },
 "nbformat": 4,
 "nbformat_minor": 5
}
